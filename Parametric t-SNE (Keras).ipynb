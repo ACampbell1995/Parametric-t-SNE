{
 "cells": [
  {
   "cell_type": "code",
   "execution_count": 1,
   "metadata": {
    "collapsed": true
   },
   "outputs": [],
   "source": [
    "batch_size = 5000"
   ]
  },
  {
   "cell_type": "code",
   "execution_count": 2,
   "metadata": {
    "collapsed": false
   },
   "outputs": [
    {
     "name": "stdout",
     "output_type": "stream",
     "text": [
      "CPU times: user 1.18 s, sys: 553 ms, total: 1.74 s\n",
      "Wall time: 1.74 s\n",
      "(60000, 'train samples')\n",
      "(10000, 'test samples')\n"
     ]
    }
   ],
   "source": [
    "import numpy as np\n",
    "from keras.datasets import mnist\n",
    "\n",
    "%time (X_train, y_train), (X_test, y_test) = mnist.load_data()\n",
    "\n",
    "X_train = X_train.reshape(60000, 784)\n",
    "X_test = X_test.reshape(10000, 784)\n",
    "X_train = X_train.astype('float32')\n",
    "X_test = X_test.astype('float32')\n",
    "X_train /= 255\n",
    "X_test /= 255\n",
    "print(X_train.shape[0], 'train samples')\n",
    "print(X_test.shape[0], 'test samples')"
   ]
  },
  {
   "cell_type": "code",
   "execution_count": null,
   "metadata": {
    "collapsed": true
   },
   "outputs": [],
   "source": [
    "from sklearn.manifold import TSNE\n",
    "tsne_model = TSNE(n_components=2, learning_rate=100, verbose=2)\n",
    "tsne2d = tsne_model.fit_transform(X_train)"
   ]
  },
  {
   "cell_type": "code",
   "execution_count": 6,
   "metadata": {
    "collapsed": false
   },
   "outputs": [
    {
     "name": "stdout",
     "output_type": "stream",
     "text": [
      "CPU times: user 795 µs, sys: 1.4 s, total: 1.4 s\n",
      "Wall time: 1.4 s\n"
     ]
    }
   ],
   "source": [
    "%time P = np.load('P.npy') # load pre-computed joint probabilities"
   ]
  },
  {
   "cell_type": "code",
   "execution_count": 34,
   "metadata": {
    "collapsed": false
   },
   "outputs": [],
   "source": [
    "import tensorflow as tf\n",
    "from tensorflow.examples.tutorials.mnist import input_data\n",
    "import skflow\n",
    "\n",
    "eps = 10e-8\n",
    "\n",
    "def tsne_model(X, P):\n",
    "    d = 2\n",
    "    activations = skflow.ops.dnn(X, [500, 500, 2000, d], activation=tf.nn.relu) \n",
    "    v = d - 1.\n",
    "    sum_act = tf.reduce_sum(tf.square(activations), reduction_indices=1)\n",
    "    Q = tf.reshape(sum_act, [-1, 1]) + -2 * tf.matmul(activations, tf.transpose(activations))\n",
    "    Q = (sum_act + Q) / v\n",
    "    Q = tf.pow(1 + Q, -(v + 1) / 2)\n",
    "    Q *= 1 - tf.identity(Q) # set the diagonal to zero..?\n",
    "    Q /= tf.reduce_sum(Q)\n",
    "    Q = tf.maximum(Q, eps)\n",
    "    C = tf.log((P + eps) / (Q + eps))\n",
    "    C = tf.reduce_sum(P * C)\n",
    "    return activations, C"
   ]
  },
  {
   "cell_type": "code",
   "execution_count": null,
   "metadata": {
    "collapsed": false
   },
   "outputs": [],
   "source": [
    "classifier = skflow.TensorFlowEstimator(\n",
    "    n_classes=0,\n",
    "    model_fn=tsne_model,\n",
    "    batch_size=batch_size,\n",
    "    steps=1*batch_size,\n",
    "    learning_rate=0.01\n",
    ")\n",
    "classifier.fit(X_train, P.reshape(-1, batch_size))"
   ]
  },
  {
   "cell_type": "code",
   "execution_count": 3,
   "metadata": {
    "collapsed": false
   },
   "outputs": [
    {
     "name": "stderr",
     "output_type": "stream",
     "text": [
      "Using Theano backend.\n",
      "Using gpu device 0: GeForce GT 750M (CNMeM is enabled with initial size: 75.0% of memory, CuDNN 4007)\n",
      "/usr/local/lib/python2.7/site-packages/theano/tensor/signal/downsample.py:5: UserWarning: downsample module has been moved to the pool module.\n",
      "  warnings.warn(\"downsample module has been moved to the pool module.\")\n"
     ]
    }
   ],
   "source": [
    "from keras.models import Sequential\n",
    "from keras.layers.core import Dense, Dropout, Activation\n",
    "from keras.optimizers import SGD\n",
    "from keras.utils import np_utils\n",
    "from keras.objectives import categorical_crossentropy"
   ]
  },
  {
   "cell_type": "code",
   "execution_count": 7,
   "metadata": {
    "collapsed": false
   },
   "outputs": [],
   "source": [
    "import theano\n",
    "from theano.tensor.extra_ops import fill_diagonal\n",
    "from keras import backend as K\n",
    "\n",
    "# P is the joint probabilities for this batch (Keras loss functions call this y_true)\n",
    "# activations is the low-dimensional output (Keras loss functions call this y_pred)\n",
    "def tsne(P, activations):\n",
    "    # v = length(network{end}.bias_upW) - 1\n",
    "#     v = K.shape(activations)[1] - 1. # using this is much slower than setting a constant\n",
    "    v = 2. - 1. # d = 2\n",
    "    eps = K.variable(10e-15) # needs to be at least 10e-8 to get anything after dividing by the sum\n",
    "    \n",
    "    # sum_act = sum(activations .^ 2, 2) # usually matlab sums are along the first axis\n",
    "    sum_act = K.sum(K.square(activations), axis=1)\n",
    "    # Q = (1 + (bsxfun(@plus, sum_act, bsxfun(@plus, sum_act', -2 * activations * activations')) ./ v)) .^ -((v + 1) / 2)\n",
    "    Q = K.reshape(sum_act, [-1, 1]) + -2 * K.dot(activations, K.transpose(activations))\n",
    "    Q = (sum_act + Q) / v\n",
    "    Q = K.pow(1 + Q, -(v + 1) / 2)\n",
    "    # Q(1:n+1:end) = 0\n",
    "    Q *= K.variable(1 - np.eye(batch_size)) # need to get batch_size from input somehow\n",
    "    fill_diagonal(Q, 0) # Theano-only\n",
    "    # Q = Q ./ sum(Q(:)) # sum(Q(:)) means \"sum all elements in Q\" http://es.mathworks.com/matlabcentral/newsreader/view_thread/51252\n",
    "    Q /= K.sum(Q)\n",
    "    # Q = max(Q, eps);\n",
    "    Q = K.maximum(Q, eps)\n",
    "    # C = sum(sum(P{1} .* log((P{1} + eps) ./ (Q + eps)))) # sum(sum(A)) also means sum all elements\n",
    "    C = K.log((P + eps) / (Q + eps))\n",
    "    C = K.sum(P * C)\n",
    "    return C"
   ]
  },
  {
   "cell_type": "code",
   "execution_count": 14,
   "metadata": {
    "collapsed": false
   },
   "outputs": [
    {
     "name": "stdout",
     "output_type": "stream",
     "text": [
      "CPU times: user 434 ms, sys: 4.61 ms, total: 438 ms\n",
      "Wall time: 439 ms\n"
     ]
    },
    {
     "data": {
      "text/plain": [
       "array(4.955209732055664, dtype=float32)"
      ]
     },
     "execution_count": 14,
     "metadata": {},
     "output_type": "execute_result"
    }
   ],
   "source": [
    "y_true = P[0]\n",
    "y_pred = np.random.random((P[0].shape[0], 2))\n",
    "result = tsne(K.variable(y_true), K.variable(y_pred))\n",
    "%time result_eval = result.eval()\n",
    "result_eval"
   ]
  },
  {
   "cell_type": "code",
   "execution_count": 22,
   "metadata": {
    "collapsed": false
   },
   "outputs": [
    {
     "name": "stdout",
     "output_type": "stream",
     "text": [
      "--------------------------------------------------------------------------------\n",
      "Initial input shape: (None, 784)\n",
      "--------------------------------------------------------------------------------\n",
      "Layer (name)                  Output Shape                  Param #             \n",
      "--------------------------------------------------------------------------------\n",
      "Dense (dense)                 (None, 500)                   392500              \n",
      "Activation (activation)       (None, 500)                   0                   \n",
      "Dense (dense)                 (None, 500)                   250500              \n",
      "Activation (activation)       (None, 500)                   0                   \n",
      "Dense (dense)                 (None, 2000)                  1002000             \n",
      "Activation (activation)       (None, 2000)                  0                   \n",
      "Dense (dense)                 (None, 2)                     4002                \n",
      "--------------------------------------------------------------------------------\n",
      "Total params: 1649002\n",
      "--------------------------------------------------------------------------------\n",
      "None\n",
      "CPU times: user 3.73 s, sys: 391 ms, total: 4.12 s\n",
      "Wall time: 4.13 s\n"
     ]
    }
   ],
   "source": [
    "model = Sequential()\n",
    "model.add(Dense(500, input_shape=(784,)))\n",
    "model.add(Activation('relu'))\n",
    "model.add(Dense(500))\n",
    "model.add(Activation('relu'))\n",
    "model.add(Dense(2000))\n",
    "model.add(Activation('relu'))\n",
    "model.add(Dense(2))\n",
    "model.build()\n",
    "print model.summary()\n",
    "\n",
    "sgd = SGD(lr=0.01)\n",
    "%time model.compile(loss=tsne, optimizer=sgd)"
   ]
  },
  {
   "cell_type": "code",
   "execution_count": 23,
   "metadata": {
    "collapsed": false
   },
   "outputs": [],
   "source": [
    "!mkdir -p plotter"
   ]
  },
  {
   "cell_type": "code",
   "execution_count": 24,
   "metadata": {
    "collapsed": false
   },
   "outputs": [],
   "source": [
    "%matplotlib inline\n",
    "import gc\n",
    "from matplotlib import pyplot as plt\n",
    "import keras\n",
    "class Plotter(keras.callbacks.Callback):        \n",
    "    def on_epoch_end(self, epoch, logs={}):\n",
    "        prediction = self.model.predict(X_test)\n",
    "        fig = plt.figure(figsize=(8,8))\n",
    "        plt.scatter(prediction[:,0], prediction[:,1], alpha=1, marker='o', s=3, edgecolor='', c=y_test)\n",
    "        ax = fig.gca()\n",
    "        ax.set_autoscale_on(False)\n",
    "        fig.tight_layout()\n",
    "        plt.savefig('plotter/%04d.png' % (epoch+1), pad_inches=0)\n",
    "        plt.close()\n",
    "        gc.collect()"
   ]
  },
  {
   "cell_type": "code",
   "execution_count": 25,
   "metadata": {
    "collapsed": false
   },
   "outputs": [
    {
     "name": "stdout",
     "output_type": "stream",
     "text": [
      "(60000, 784)\n",
      "(60000, 5000)\n"
     ]
    }
   ],
   "source": [
    "Y_train = P.reshape(X_train.shape[0], -1)\n",
    "print(X_train.shape)\n",
    "print(Y_train.shape)"
   ]
  },
  {
   "cell_type": "code",
   "execution_count": null,
   "metadata": {
    "collapsed": false
   },
   "outputs": [
    {
     "name": "stdout",
     "output_type": "stream",
     "text": [
      "Epoch 1/100\n",
      "60000/60000 [==============================] - 8s - loss: 4.9256     \n",
      "Epoch 2/100\n",
      "60000/60000 [==============================] - 8s - loss: 4.9185     \n",
      "Epoch 3/100\n",
      "60000/60000 [==============================] - 8s - loss: 4.9013     \n",
      "Epoch 4/100\n",
      "30000/60000 [==============>...............] - ETA: 3s - loss: 4.8739"
     ]
    }
   ],
   "source": [
    "model.fit(X_train, Y_train,\n",
    "          batch_size=batch_size,\n",
    "          callbacks=[Plotter()],\n",
    "          shuffle=False,\n",
    "          nb_epoch=100,\n",
    "          verbose=1)"
   ]
  },
  {
   "cell_type": "code",
   "execution_count": null,
   "metadata": {
    "collapsed": true
   },
   "outputs": [],
   "source": []
  }
 ],
 "metadata": {
  "kernelspec": {
   "display_name": "Python 2",
   "language": "python",
   "name": "python2"
  },
  "language_info": {
   "codemirror_mode": {
    "name": "ipython",
    "version": 2
   },
   "file_extension": ".py",
   "mimetype": "text/x-python",
   "name": "python",
   "nbconvert_exporter": "python",
   "pygments_lexer": "ipython2",
   "version": "2.7.10"
  }
 },
 "nbformat": 4,
 "nbformat_minor": 0
}
