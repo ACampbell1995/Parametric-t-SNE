{
 "cells": [
  {
   "cell_type": "code",
   "execution_count": 1,
   "metadata": {
    "collapsed": false
   },
   "outputs": [
    {
     "name": "stderr",
     "output_type": "stream",
     "text": [
      "Using Theano backend.\n",
      "Using gpu device 0: GeForce GT 750M (CNMeM is enabled with initial size: 75.0% of memory, CuDNN 4007)\n",
      "/usr/local/lib/python2.7/site-packages/theano/tensor/signal/downsample.py:5: UserWarning: downsample module has been moved to the pool module.\n",
      "  warnings.warn(\"downsample module has been moved to the pool module.\")\n"
     ]
    }
   ],
   "source": [
    "import numpy as np\n",
    "import keras\n",
    "from keras.models import Sequential\n",
    "from keras.layers.core import Dense, Dropout, Activation\n",
    "from keras.optimizers import SGD\n",
    "from keras.utils import np_utils\n",
    "from keras.objectives import categorical_crossentropy\n",
    "from keras.datasets import mnist"
   ]
  },
  {
   "cell_type": "code",
   "execution_count": 2,
   "metadata": {
    "collapsed": false
   },
   "outputs": [
    {
     "name": "stdout",
     "output_type": "stream",
     "text": [
      "CPU times: user 1.15 s, sys: 565 ms, total: 1.71 s\n",
      "Wall time: 1.71 s\n",
      "(60000, 'train samples')\n",
      "(10000, 'test samples')\n"
     ]
    }
   ],
   "source": [
    "%time (X_train, y_train), (X_test, y_test) = mnist.load_data()\n",
    "\n",
    "X_train = X_train.reshape(-1, 784)\n",
    "X_test = X_test.reshape(-1, 784)\n",
    "X_train = X_train.astype('float32')\n",
    "X_test = X_test.astype('float32')\n",
    "X_train /= 255\n",
    "X_test /= 255\n",
    "print(X_train.shape[0], 'train samples')\n",
    "print(X_test.shape[0], 'test samples')"
   ]
  },
  {
   "cell_type": "code",
   "execution_count": 3,
   "metadata": {
    "collapsed": false
   },
   "outputs": [
    {
     "name": "stdout",
     "output_type": "stream",
     "text": [
      "CPU times: user 899 µs, sys: 1.41 s, total: 1.41 s\n",
      "Wall time: 1.41 s\n"
     ]
    }
   ],
   "source": [
    "%time P = np.load('P.npy') # load pre-computed joint probabilities\n",
    "batch_size = P.shape[1]"
   ]
  },
  {
   "cell_type": "code",
   "execution_count": 4,
   "metadata": {
    "collapsed": false
   },
   "outputs": [],
   "source": [
    "from keras import backend as K\n",
    "\n",
    "# P is the joint probabilities for this batch (Keras loss functions call this y_true)\n",
    "# activations is the low-dimensional output (Keras loss functions call this y_pred)\n",
    "def tsne(P, activations):\n",
    "#     d = K.shape(activations)[1]\n",
    "    d = 2 # TODO: should set this automatically, but the above is very slow for some reason\n",
    "    n = batch_size # TODO: should set this automatically\n",
    "    v = d - 1.\n",
    "    eps = K.variable(10e-15) # needs to be at least 10e-8 to get anything after Q /= K.sum(Q)\n",
    "    sum_act = K.sum(K.square(activations), axis=1)\n",
    "    Q = K.reshape(sum_act, [-1, 1]) + -2 * K.dot(activations, K.transpose(activations))\n",
    "    Q = (sum_act + Q) / v\n",
    "    Q = K.pow(1 + Q, -(v + 1) / 2)\n",
    "    Q *= K.variable(1 - np.eye(n))\n",
    "    Q /= K.sum(Q)\n",
    "    Q = K.maximum(Q, eps)\n",
    "    C = K.log((P + eps) / (Q + eps))\n",
    "    C = K.sum(P * C)\n",
    "    return C"
   ]
  },
  {
   "cell_type": "code",
   "execution_count": 5,
   "metadata": {
    "collapsed": false
   },
   "outputs": [
    {
     "name": "stdout",
     "output_type": "stream",
     "text": [
      "CPU times: user 3.51 s, sys: 431 ms, total: 3.94 s\n",
      "Wall time: 3.97 s\n"
     ]
    }
   ],
   "source": [
    "model = Sequential()\n",
    "model.add(Dense(500, input_shape=(784,)))\n",
    "model.add(Activation('relu'))\n",
    "model.add(Dense(500))\n",
    "model.add(Activation('relu'))\n",
    "model.add(Dense(2000))\n",
    "model.add(Activation('relu'))\n",
    "model.add(Dense(2))\n",
    "# model.build()\n",
    "# print model.summary()\n",
    "\n",
    "sgd = SGD(lr=0.01)\n",
    "%time model.compile(loss=tsne, optimizer=sgd)"
   ]
  },
  {
   "cell_type": "code",
   "execution_count": 6,
   "metadata": {
    "collapsed": false
   },
   "outputs": [],
   "source": [
    "%matplotlib inline\n",
    "from matplotlib import pyplot as plt\n",
    "\n",
    "import gc\n",
    "!mkdir -p plotter\n",
    "class Plotter(keras.callbacks.Callback):        \n",
    "    def on_epoch_end(self, epoch, logs={}):\n",
    "        prediction = self.model.predict(X_test)\n",
    "        fig = plt.figure(figsize=(8,8))\n",
    "        plt.scatter(prediction[:,0], prediction[:,1], alpha=1, marker='o', s=3, edgecolor='', c=y_test)\n",
    "        ax = fig.gca()\n",
    "        ax.set_autoscale_on(False)\n",
    "        fig.tight_layout()\n",
    "        plt.savefig('plotter/%04d.png' % (epoch+1), pad_inches=0)\n",
    "        plt.close()\n",
    "        gc.collect()"
   ]
  },
  {
   "cell_type": "code",
   "execution_count": 7,
   "metadata": {
    "collapsed": false
   },
   "outputs": [
    {
     "name": "stdout",
     "output_type": "stream",
     "text": [
      "(60000, 784)\n",
      "(60000, 5000)\n"
     ]
    }
   ],
   "source": [
    "Y_train = P.reshape(X_train.shape[0], -1)\n",
    "print(X_train.shape)\n",
    "print(Y_train.shape)"
   ]
  },
  {
   "cell_type": "code",
   "execution_count": null,
   "metadata": {
    "collapsed": false
   },
   "outputs": [
    {
     "name": "stdout",
     "output_type": "stream",
     "text": [
      "Epoch 1/500\n",
      "60000/60000 [==============================] - 8s - loss: 4.9197     \n",
      "Epoch 2/500\n",
      "60000/60000 [==============================] - 8s - loss: 4.9037     \n",
      "Epoch 3/500\n",
      "60000/60000 [==============================] - 8s - loss: 4.8631     \n",
      "Epoch 4/500\n",
      "60000/60000 [==============================] - 7s - loss: 4.7792     \n",
      "Epoch 5/500\n",
      "60000/60000 [==============================] - 8s - loss: 4.6566     \n",
      "Epoch 6/500\n",
      "60000/60000 [==============================] - 8s - loss: 4.5288     \n",
      "Epoch 7/500\n",
      "60000/60000 [==============================] - 7s - loss: 4.4176     \n",
      "Epoch 8/500\n",
      "60000/60000 [==============================] - 7s - loss: 4.3222     \n",
      "Epoch 9/500\n",
      "60000/60000 [==============================] - 8s - loss: 4.2356     \n",
      "Epoch 10/500\n",
      "60000/60000 [==============================] - 8s - loss: 4.1546     \n",
      "Epoch 11/500\n",
      "60000/60000 [==============================] - 8s - loss: 4.0795     \n",
      "Epoch 12/500\n",
      "60000/60000 [==============================] - 8s - loss: 4.0121     \n",
      "Epoch 13/500\n",
      "60000/60000 [==============================] - 8s - loss: 3.9530     \n",
      "Epoch 14/500\n",
      "60000/60000 [==============================] - 8s - loss: 3.9022     \n",
      "Epoch 15/500\n",
      "60000/60000 [==============================] - 8s - loss: 3.8588     \n",
      "Epoch 16/500\n",
      "60000/60000 [==============================] - 8s - loss: 3.8216     \n",
      "Epoch 17/500\n",
      "60000/60000 [==============================] - 8s - loss: 3.7895     \n",
      "Epoch 18/500\n",
      "60000/60000 [==============================] - 8s - loss: 3.7616     \n",
      "Epoch 19/500\n",
      "60000/60000 [==============================] - 8s - loss: 3.7370     \n",
      "Epoch 20/500\n",
      "60000/60000 [==============================] - 7s - loss: 3.7150     \n",
      "Epoch 21/500\n",
      "60000/60000 [==============================] - 7s - loss: 3.6953     \n",
      "Epoch 22/500\n",
      "60000/60000 [==============================] - 8s - loss: 3.6773     \n",
      "Epoch 23/500\n",
      "60000/60000 [==============================] - 8s - loss: 3.6608     \n",
      "Epoch 24/500\n",
      "60000/60000 [==============================] - 8s - loss: 3.6456     \n",
      "Epoch 25/500\n",
      "60000/60000 [==============================] - 8s - loss: 3.6314     \n",
      "Epoch 26/500\n",
      "60000/60000 [==============================] - 8s - loss: 3.6183     \n",
      "Epoch 27/500\n",
      "60000/60000 [==============================] - 8s - loss: 3.6059     \n",
      "Epoch 28/500\n",
      "60000/60000 [==============================] - 8s - loss: 3.5943     \n",
      "Epoch 29/500\n",
      "60000/60000 [==============================] - 8s - loss: 3.5834     \n",
      "Epoch 30/500\n",
      "60000/60000 [==============================] - 8s - loss: 3.5731     \n",
      "Epoch 31/500\n",
      "60000/60000 [==============================] - 8s - loss: 3.5634     \n",
      "Epoch 32/500\n",
      "60000/60000 [==============================] - 8s - loss: 3.5541     \n",
      "Epoch 33/500\n",
      "60000/60000 [==============================] - 8s - loss: 3.5452     \n",
      "Epoch 34/500\n",
      "60000/60000 [==============================] - 8s - loss: 3.5368     \n",
      "Epoch 35/500\n",
      "60000/60000 [==============================] - 8s - loss: 3.5287     \n",
      "Epoch 36/500\n",
      "60000/60000 [==============================] - 7s - loss: 3.5209     \n",
      "Epoch 37/500\n",
      "55000/60000 [==========================>...] - ETA: 0s - loss: 3.5185"
     ]
    }
   ],
   "source": [
    "model.fit(X_train, Y_train,\n",
    "          batch_size=batch_size,\n",
    "          callbacks=[Plotter()],\n",
    "          shuffle=False,\n",
    "          nb_epoch=500,\n",
    "          verbose=1)"
   ]
  }
 ],
 "metadata": {
  "kernelspec": {
   "display_name": "Python 2",
   "language": "python",
   "name": "python2"
  },
  "language_info": {
   "codemirror_mode": {
    "name": "ipython",
    "version": 2
   },
   "file_extension": ".py",
   "mimetype": "text/x-python",
   "name": "python",
   "nbconvert_exporter": "python",
   "pygments_lexer": "ipython2",
   "version": "2.7.10"
  }
 },
 "nbformat": 4,
 "nbformat_minor": 0
}
